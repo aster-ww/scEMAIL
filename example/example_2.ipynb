{
 "cells": [
  {
   "cell_type": "code",
   "execution_count": 1,
   "id": "52d6a531",
   "metadata": {},
   "outputs": [],
   "source": [
    "from scEMAIL_model import *\n",
    "import pandas as pd"
   ]
  },
  {
   "cell_type": "markdown",
   "id": "04d18e21",
   "metadata": {},
   "source": [
    "### load the preprocessed target data"
   ]
  },
  {
   "cell_type": "code",
   "execution_count": 2,
   "id": "7e205d91",
   "metadata": {},
   "outputs": [
    {
     "name": "stdout",
     "output_type": "stream",
     "text": [
      "dataname: Pancreas\n"
     ]
    }
   ],
   "source": [
    "dataset='Pancreas'\n",
    "print(\"dataname:\", dataset)\n",
    "adata = sc.read(\"/data/wanh/scEMAIL/real_data/{}_adata.h5ad\".format(dataset))\n",
    "X = adata.X.astype(np.float32)\n",
    "with open('/data/wanh/scEMAIL/real_data/{}_count_X.csv'.format(dataset),newline='') as csvfile:\n",
    "    spamreader = csv.reader(csvfile, delimiter=',', quotechar='|')\n",
    "    count_X = []\n",
    "    for row in spamreader:\n",
    "        count_X.append([round(float(j)) for j in row])\n",
    "count_X = np.array(count_X)"
   ]
  },
  {
   "cell_type": "markdown",
   "id": "c4461681",
   "metadata": {},
   "source": [
    "### load the pre-trained source model"
   ]
  },
  {
   "cell_type": "code",
   "execution_count": 3,
   "id": "cbca6134",
   "metadata": {},
   "outputs": [
    {
     "name": "stdout",
     "output_type": "stream",
     "text": [
      "source cell types: 9 ['acinar', 'alpha', 'beta', 'delta', 'ductal', 'endothelial', 'epsilon', 'gamma', 'mesenchymal']\n"
     ]
    }
   ],
   "source": [
    "checkpoint = torch.load(\"/data/wanh/scEMAIL/source_model/real_data/AE_weights_{}.pth.tar\".format(dataset))\n",
    "source_class_num = checkpoint['ae_state_dict'][\"classifier.0.bias\"].size()[0]\n",
    "model = target_model(input_dim=adata.n_vars, z_dim=32, n_clusters=source_class_num,\n",
    "                             encodeLayer=[256, 64], decodeLayer=[64, 256], sigma=2.5).cuda()\n",
    "model_dict = model.state_dict()\n",
    "for i in checkpoint['ae_state_dict']:\n",
    "    model_dict[i] = checkpoint['ae_state_dict'][i]\n",
    "model.load_state_dict(model_dict)\n",
    "\n",
    "with open('/data/wanh/scEMAIL/real_data/{}_annotation.csv'.format(dataset),newline='') as csvfile:\n",
    "    spamreader = csv.reader(csvfile, delimiter=',', quotechar='|')\n",
    "    source_annotation = []\n",
    "    for row in spamreader:\n",
    "        source_annotation.append(row[0])\n",
    "print(\"source cell types:\",source_class_num, source_annotation)"
   ]
  },
  {
   "cell_type": "code",
   "execution_count": 4,
   "id": "dc0c5319",
   "metadata": {},
   "outputs": [
    {
     "name": "stdout",
     "output_type": "stream",
     "text": [
      "number of samples: 2282\n",
      "number of class: 9\n",
      "bimodality of dip test: 0.3226677332266773 False\n",
      "bimodality coefficient:(>0.555 indicates bimodality) 0.49933163808816555 False\n",
      "novel cell types exist: False\n",
      "Pretrain epoch [1/1]\n",
      "Pretrain epoch [2/1]\n",
      "Pretrain epoch [3/1]\n",
      "Pretrain epoch [4/1]\n",
      "Pretrain epoch [5/1]\n",
      "Pretrain epoch [6/1]\n",
      "Pretrain epoch [7/1]\n",
      "Pretrain epoch [8/1]\n",
      "Pretrain epoch [9/1]\n",
      "Pretrain epoch [1/2]\n",
      "Pretrain epoch [2/2]\n",
      "Pretrain epoch [3/2]\n",
      "Pretrain epoch [4/2]\n",
      "Pretrain epoch [5/2]\n",
      "Pretrain epoch [6/2]\n",
      "Pretrain epoch [7/2]\n",
      "Pretrain epoch [8/2]\n",
      "Pretrain epoch [9/2]\n",
      "Pretrain epoch [1/3]\n",
      "Pretrain epoch [2/3]\n",
      "Pretrain epoch [3/3]\n",
      "Pretrain epoch [4/3]\n",
      "Pretrain epoch [5/3]\n",
      "Pretrain epoch [6/3]\n",
      "Pretrain epoch [7/3]\n",
      "Pretrain epoch [8/3]\n",
      "Pretrain epoch [9/3]\n",
      "Pretrain epoch [1/4]\n",
      "Pretrain epoch [2/4]\n",
      "Pretrain epoch [3/4]\n",
      "Pretrain epoch [4/4]\n",
      "Pretrain epoch [5/4]\n",
      "Pretrain epoch [6/4]\n",
      "Pretrain epoch [7/4]\n",
      "Pretrain epoch [8/4]\n",
      "Pretrain epoch [9/4]\n",
      "Pretrain epoch [1/5]\n",
      "Pretrain epoch [2/5]\n",
      "Pretrain epoch [3/5]\n",
      "Pretrain epoch [4/5]\n",
      "Pretrain epoch [5/5]\n",
      "Pretrain epoch [6/5]\n",
      "Pretrain epoch [7/5]\n",
      "Pretrain epoch [8/5]\n",
      "Pretrain epoch [9/5]\n",
      "Pretrain epoch [1/6]\n",
      "Pretrain epoch [2/6]\n",
      "Pretrain epoch [3/6]\n",
      "Pretrain epoch [4/6]\n",
      "Pretrain epoch [5/6]\n",
      "Pretrain epoch [6/6]\n",
      "Pretrain epoch [7/6]\n",
      "Pretrain epoch [8/6]\n",
      "Pretrain epoch [9/6]\n",
      "Pretrain epoch [1/7]\n",
      "Pretrain epoch [2/7]\n",
      "Pretrain epoch [3/7]\n",
      "Pretrain epoch [4/7]\n",
      "Pretrain epoch [5/7]\n",
      "Pretrain epoch [6/7]\n",
      "Pretrain epoch [7/7]\n",
      "Pretrain epoch [8/7]\n",
      "Pretrain epoch [9/7]\n",
      "Pretrain epoch [1/8]\n",
      "Pretrain epoch [2/8]\n",
      "Pretrain epoch [3/8]\n",
      "Pretrain epoch [4/8]\n",
      "Pretrain epoch [5/8]\n",
      "Pretrain epoch [6/8]\n",
      "Pretrain epoch [7/8]\n",
      "Pretrain epoch [8/8]\n",
      "Pretrain epoch [9/8]\n",
      "Pretrain epoch [1/9]\n",
      "Pretrain epoch [2/9]\n",
      "Pretrain epoch [3/9]\n",
      "Pretrain epoch [4/9]\n",
      "Pretrain epoch [5/9]\n",
      "Pretrain epoch [6/9]\n",
      "Pretrain epoch [7/9]\n",
      "Pretrain epoch [8/9]\n",
      "Pretrain epoch [9/9]\n",
      "Pretrain epoch [1/10]\n",
      "Pretrain epoch [2/10]\n",
      "Pretrain epoch [3/10]\n",
      "Pretrain epoch [4/10]\n",
      "Pretrain epoch [5/10]\n",
      "Pretrain epoch [6/10]\n",
      "Pretrain epoch [7/10]\n",
      "Pretrain epoch [8/10]\n",
      "Pretrain epoch [9/10]\n",
      "Midtrain epoch [1/11]\n",
      "Midtrain epoch [2/11]\n",
      "Midtrain epoch [3/11]\n",
      "Midtrain epoch [4/11]\n",
      "Midtrain epoch [5/11]\n",
      "Midtrain epoch [6/11]\n",
      "Midtrain epoch [7/11]\n",
      "Midtrain epoch [8/11]\n",
      "Midtrain epoch [9/11]\n",
      "current error: tensor(0.0451, device='cuda:0')\n",
      "Midtrain epoch [1/12]\n",
      "Midtrain epoch [2/12]\n",
      "Midtrain epoch [3/12]\n",
      "Midtrain epoch [4/12]\n",
      "Midtrain epoch [5/12]\n",
      "Midtrain epoch [6/12]\n",
      "Midtrain epoch [7/12]\n",
      "Midtrain epoch [8/12]\n",
      "Midtrain epoch [9/12]\n",
      "current error: tensor(0.0184, device='cuda:0')\n",
      "Midtrain epoch [1/13]\n",
      "Midtrain epoch [2/13]\n",
      "Midtrain epoch [3/13]\n",
      "Midtrain epoch [4/13]\n",
      "Midtrain epoch [5/13]\n",
      "Midtrain epoch [6/13]\n",
      "Midtrain epoch [7/13]\n",
      "Midtrain epoch [8/13]\n",
      "Midtrain epoch [9/13]\n",
      "current error: tensor(0.0127, device='cuda:0')\n",
      "Midtrain epoch [1/14]\n",
      "Midtrain epoch [2/14]\n",
      "Midtrain epoch [3/14]\n",
      "Midtrain epoch [4/14]\n",
      "Midtrain epoch [5/14]\n",
      "Midtrain epoch [6/14]\n",
      "Midtrain epoch [7/14]\n",
      "Midtrain epoch [8/14]\n",
      "Midtrain epoch [9/14]\n",
      "current error: tensor(0.0066, device='cuda:0')\n",
      "Midtrain epoch [1/15]\n",
      "Midtrain epoch [2/15]\n",
      "Midtrain epoch [3/15]\n",
      "Midtrain epoch [4/15]\n",
      "Midtrain epoch [5/15]\n",
      "Midtrain epoch [6/15]\n",
      "Midtrain epoch [7/15]\n",
      "Midtrain epoch [8/15]\n",
      "Midtrain epoch [9/15]\n",
      "current error: tensor(0.0026, device='cuda:0')\n",
      "Midtrain epoch [1/16]\n",
      "Midtrain epoch [2/16]\n",
      "Midtrain epoch [3/16]\n",
      "Midtrain epoch [4/16]\n",
      "Midtrain epoch [5/16]\n",
      "Midtrain epoch [6/16]\n",
      "Midtrain epoch [7/16]\n",
      "Midtrain epoch [8/16]\n",
      "Midtrain epoch [9/16]\n",
      "current error: tensor(0.0018, device='cuda:0')\n",
      "Midtrain epoch [1/17]\n",
      "Midtrain epoch [2/17]\n",
      "Midtrain epoch [3/17]\n",
      "Midtrain epoch [4/17]\n",
      "Midtrain epoch [5/17]\n",
      "Midtrain epoch [6/17]\n",
      "Midtrain epoch [7/17]\n",
      "Midtrain epoch [8/17]\n",
      "Midtrain epoch [9/17]\n",
      "current error: tensor(0.0009, device='cuda:0')\n"
     ]
    }
   ],
   "source": [
    "t0 = time()\n",
    "bimodality,pred_celltype = model.fit(x=X, annotation=source_annotation, X_raw=count_X,\n",
    "                           size_factor=adata.obs.size_factors,pretrain_epoch=10,midtrain_epoch=20,\n",
    "                           K=5, KK=5, alpha=0.1)\n",
    "time_cost = time() - t0"
   ]
  },
  {
   "cell_type": "markdown",
   "id": "1639a197",
   "metadata": {},
   "source": [
    "### calculate annotation accuracy"
   ]
  },
  {
   "cell_type": "code",
   "execution_count": 5,
   "id": "599e406d",
   "metadata": {},
   "outputs": [
    {
     "name": "stdout",
     "output_type": "stream",
     "text": [
      "novel cell types exist: False\n",
      "target cell types: ['acinar' 'alpha' 'beta' 'delta' 'ductal' 'mesenchymal']\n",
      "    Dataset      Total accuracy      Time consuming\n",
      "0  Pancreas  0.9631901840490797  13.350159645080566\n"
     ]
    }
   ],
   "source": [
    "print(\"novel cell types exist:\",bimodality)\n",
    "cellname = np.array(adata.obs[\"celltype\"])\n",
    "print(\"target cell types:\",np.unique(cellname))\n",
    "accuracy=np.mean(pred_celltype == cellname)\n",
    "result=np.array([[dataset,accuracy,time_cost]])\n",
    "output = pd.DataFrame(result,columns=[\"Dataset\",\"Total accuracy\",\"Time consuming\"])\n",
    "print(output)"
   ]
  },
  {
   "cell_type": "code",
   "execution_count": null,
   "id": "388996ee",
   "metadata": {},
   "outputs": [],
   "source": []
  }
 ],
 "metadata": {
  "kernelspec": {
   "display_name": "Python 3 (ipykernel)",
   "language": "python",
   "name": "python3"
  },
  "language_info": {
   "codemirror_mode": {
    "name": "ipython",
    "version": 3
   },
   "file_extension": ".py",
   "mimetype": "text/x-python",
   "name": "python",
   "nbconvert_exporter": "python",
   "pygments_lexer": "ipython3",
   "version": "3.7.13"
  }
 },
 "nbformat": 4,
 "nbformat_minor": 5
}
